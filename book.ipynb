{
 "cells": [
  {
   "cell_type": "code",
   "execution_count": 20,
   "metadata": {},
   "outputs": [
    {
     "name": "stdout",
     "output_type": "stream",
     "text": [
      "hello world\n"
     ]
    }
   ],
   "source": [
    "print(\"hello world\")"
   ]
  },
  {
   "cell_type": "code",
   "execution_count": 2,
   "metadata": {},
   "outputs": [],
   "source": [
    "# int\n",
    "# str\n",
    "# bool\n",
    "# float"
   ]
  },
  {
   "cell_type": "code",
   "execution_count": 3,
   "metadata": {},
   "outputs": [],
   "source": [
    "a = 5\n",
    "b = 'hlo'\n",
    "c = True\n",
    "d = 0.02"
   ]
  },
  {
   "cell_type": "code",
   "execution_count": 4,
   "metadata": {},
   "outputs": [
    {
     "name": "stdout",
     "output_type": "stream",
     "text": [
      "5 hlo True 0.02\n"
     ]
    }
   ],
   "source": [
    "print(a,b,c,d)"
   ]
  },
  {
   "cell_type": "code",
   "execution_count": 5,
   "metadata": {},
   "outputs": [
    {
     "data": {
      "text/plain": [
       "float"
      ]
     },
     "execution_count": 5,
     "metadata": {},
     "output_type": "execute_result"
    }
   ],
   "source": [
    "type(d)"
   ]
  },
  {
   "cell_type": "code",
   "execution_count": 7,
   "metadata": {},
   "outputs": [],
   "source": [
    "# add +\n",
    "# sub -\n",
    "# multi *\n",
    "# divd dec /\n",
    "# divd int //\n",
    "# div remainder %\n",
    "# power **\n",
    "\n",
    "# bodmas\n",
    "# b bracket\n",
    "# o order (power)\n",
    "# d divide\n",
    "# m multi\n",
    "# a addition\n",
    "# s subract"
   ]
  },
  {
   "cell_type": "code",
   "execution_count": 13,
   "metadata": {},
   "outputs": [
    {
     "name": "stdout",
     "output_type": "stream",
     "text": [
      "yes\n",
      "this wont print\n"
     ]
    }
   ],
   "source": [
    "x = True\n",
    "if x:\n",
    "    print('yes')\n",
    "    if True:\n",
    "        print(\"this wont print\")\n",
    "else:\n",
    "    print('no')\n"
   ]
  },
  {
   "cell_type": "code",
   "execution_count": 1,
   "metadata": {},
   "outputs": [
    {
     "name": "stdout",
     "output_type": "stream",
     "text": [
      "A\n"
     ]
    }
   ],
   "source": [
    "mark = int(input(\"Enter Your mark :\"))\n",
    "if mark > 90:\n",
    "    print(\"O\")\n",
    "elif mark > 80:\n",
    "    print(\"A+\")\n",
    "elif mark > 70:\n",
    "    print(\"A\")\n",
    "elif mark > 60:\n",
    "    print(\"B+\")\n",
    "elif mark >= 50:\n",
    "    print(\"B\")\n",
    "else:\n",
    "    print(\"RA\")\n"
   ]
  },
  {
   "cell_type": "code",
   "execution_count": null,
   "metadata": {},
   "outputs": [],
   "source": []
  },
  {
   "cell_type": "code",
   "execution_count": null,
   "metadata": {},
   "outputs": [],
   "source": []
  }
 ],
 "metadata": {
  "kernelspec": {
   "display_name": "Python 3.11.0 64-bit",
   "language": "python",
   "name": "python3"
  },
  "language_info": {
   "codemirror_mode": {
    "name": "ipython",
    "version": 3
   },
   "file_extension": ".py",
   "mimetype": "text/x-python",
   "name": "python",
   "nbconvert_exporter": "python",
   "pygments_lexer": "ipython3",
   "version": "3.11.0"
  },
  "orig_nbformat": 4,
  "vscode": {
   "interpreter": {
    "hash": "8c0939d844085c4b677c8c9228558face829e958cea737103dbdd1ae95b049df"
   }
  }
 },
 "nbformat": 4,
 "nbformat_minor": 2
}
